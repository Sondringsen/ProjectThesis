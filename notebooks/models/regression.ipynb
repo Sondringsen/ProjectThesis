{
 "cells": [
  {
   "cell_type": "markdown",
   "metadata": {},
   "source": [
    "# Regression model for metadata"
   ]
  },
  {
   "cell_type": "code",
   "execution_count": 202,
   "metadata": {},
   "outputs": [],
   "source": [
    "import pandas as pd\n",
    "import numpy as np\n",
    "import statsmodels.api as sm\n",
    "from statsmodels.regression.linear_model import OLS\n",
    "from statsmodels.tools import add_constant\n",
    "import matplotlib.pyplot as plt\n",
    "from sklearn.experimental import enable_iterative_imputer\n",
    "from sklearn.impute import IterativeImputer\n",
    "import itertools"
   ]
  },
  {
   "cell_type": "markdown",
   "metadata": {},
   "source": [
    "### Loading the data"
   ]
  },
  {
   "cell_type": "code",
   "execution_count": 203,
   "metadata": {},
   "outputs": [],
   "source": [
    "report = \"reports_mid_price\"\n",
    "y_metrics = pd.read_csv(f\"../../reports_log/{report}/tot_loss_lstm.csv\", index_col=0)[\"normalized_rmse\"]\n",
    "Y = y_metrics\n",
    "# X = pd.read_csv(\"../../data/raw/meta_data.csv\", index_col=1).iloc[:, 1:]\n",
    "X = pd.read_csv(\"../../data/raw/meta_data_with_LOB.csv\", index_col=2).iloc[:, 1:]\n",
    "\n",
    "tickers = y_metrics.index\n",
    "X = X.loc[tickers, :]"
   ]
  },
  {
   "cell_type": "code",
   "execution_count": 204,
   "metadata": {},
   "outputs": [],
   "source": [
    "textual_columns = [\"sectorKey\", \"industryKey\"]\n",
    "X = X.drop(columns=textual_columns)"
   ]
  },
  {
   "cell_type": "code",
   "execution_count": 205,
   "metadata": {},
   "outputs": [],
   "source": [
    "X[\"floatRatio\"] = X[\"floatShares\"] / X[\"sharesShort\"]\n",
    "\n",
    "nonsensical = [\n",
    "    \"auditRisk\",\n",
    "    \"boardRisk\",\n",
    "    \"compensationRisk\",\n",
    "    \"shareHolderRightsRisk\",\n",
    "    \"overallRisk\",\n",
    "    \"dividendRate\",\n",
    "    \"targetHighPrice\",\n",
    "    \"targetLowPrice\",\n",
    "    \"recommendationMean\",\n",
    "    \"floatShares\",\n",
    "    \"sharesShort\", \n",
    "    \"sharesShortPriorMonth\", \n",
    "    \"enterpriseValue\", \n",
    "    \"totalCash\",\n",
    "    # \"ebitda\",\n",
    "    \"totalDebt\",\n",
    "    \"totalRevenue\",\n",
    "    \"freeCashflow\",\n",
    "    \"operatingCashflow\",\n",
    "]\n",
    "\n",
    "other_columns = [\n",
    "    \"Unnamed: 0_x\",\n",
    "    \"Unnamed: 0_y\",\n",
    "]\n",
    "\n",
    "X = X.drop(columns=nonsensical + other_columns)"
   ]
  },
  {
   "cell_type": "code",
   "execution_count": 206,
   "metadata": {},
   "outputs": [
    {
     "data": {
      "text/plain": [
       "Index(['fullTimeEmployees', 'dividendYield', 'fiveYearAvgDividendYield',\n",
       "       'beta', 'trailingPE', 'forwardPE', 'marketCap',\n",
       "       'priceToSalesTrailing12Months', 'profitMargins', 'heldPercentInsiders',\n",
       "       'heldPercentInstitutions', 'shortRatio', 'priceToBook',\n",
       "       'earningsQuarterlyGrowth', 'trailingEps', 'pegRatio',\n",
       "       'enterpriseToRevenue', 'enterpriseToEbitda', 'numberOfAnalystOpinions',\n",
       "       'ebitda', 'quickRatio', 'debtToEquity', 'returnOnAssets',\n",
       "       'returnOnEquity', 'earningsGrowth', 'revenueGrowth', 'grossMargins',\n",
       "       'ebitdaMargins', 'operatingMargins', 'trades_per_day', 'avg_rel_spread',\n",
       "       'log_trades_per_day', 'floatRatio'],\n",
       "      dtype='object')"
      ]
     },
     "execution_count": 206,
     "metadata": {},
     "output_type": "execute_result"
    }
   ],
   "source": [
    "len(X.columns)\n",
    "X.columns"
   ]
  },
  {
   "cell_type": "markdown",
   "metadata": {},
   "source": [
    "### Some cleaning"
   ]
  },
  {
   "cell_type": "code",
   "execution_count": 207,
   "metadata": {},
   "outputs": [],
   "source": [
    "significant_tickers = [\n",
    "    \"KEY\",\n",
    "    \"HAL\",\n",
    "    \"BELFB\",\n",
    "    \"FITB\",\n",
    "    \"ESRT\",\n",
    "    \"EPM\",\n",
    "    \"BTU\",\n",
    "    \"CWT\",\n",
    "    \"ARTNA\",\n",
    "    \"DOMO\",\n",
    "]\n",
    "Y = Y.loc[Y.index.isin(significant_tickers)]\n",
    "X = X.loc[X.index.isin(significant_tickers)]\n",
    "# Y.loc[Y >= 1] = 1\n",
    "# Y = 1-Y**2\n",
    "\n",
    "# too_high_error_tickers = Y[Y >= 1.01].index\n",
    "# X = X.drop(too_high_error_tickers)\n",
    "# Y = Y.drop(too_high_error_tickers)\n",
    "\n",
    "columns_to_log_transform = [\n",
    "    \"fullTimeEmployees\", \n",
    "    \"marketCap\",\n",
    "]\n",
    "\n",
    "new_column_names = [\"log_\" + col for col in columns_to_log_transform]\n",
    "\n",
    "for col, new_col in zip(columns_to_log_transform, new_column_names):\n",
    "    X.loc[:, new_col] = np.log(X.loc[:, col])\n",
    "    X = X.drop(columns=col)    "
   ]
  },
  {
   "cell_type": "code",
   "execution_count": 208,
   "metadata": {},
   "outputs": [],
   "source": [
    "# X[\"dividendYield\"] = X[\"dividendYield\"].fillna(0)\n",
    "# X[\"fiveYearAvgDividendYield\"] = X[\"dividendYield\"].fillna(0)\n",
    "# X[\"trailingPE\"] = X[\"trailingPE\"].max()\n",
    "# X[\"enterpriseToEbitda\"] = X[\"enterpriseToEbitda\"].max()\n",
    "\n"
   ]
  },
  {
   "cell_type": "code",
   "execution_count": 209,
   "metadata": {},
   "outputs": [
    {
     "data": {
      "text/plain": [
       "dividendYield                   1\n",
       "fiveYearAvgDividendYield        2\n",
       "beta                            0\n",
       "trailingPE                      1\n",
       "forwardPE                       0\n",
       "priceToSalesTrailing12Months    0\n",
       "profitMargins                   0\n",
       "heldPercentInsiders             0\n",
       "heldPercentInstitutions         0\n",
       "shortRatio                      0\n",
       "priceToBook                     1\n",
       "earningsQuarterlyGrowth         2\n",
       "trailingEps                     0\n",
       "pegRatio                        3\n",
       "enterpriseToRevenue             0\n",
       "enterpriseToEbitda              2\n",
       "numberOfAnalystOpinions         1\n",
       "ebitda                          2\n",
       "quickRatio                      2\n",
       "debtToEquity                    3\n",
       "returnOnAssets                  0\n",
       "returnOnEquity                  1\n",
       "earningsGrowth                  2\n",
       "revenueGrowth                   0\n",
       "grossMargins                    2\n",
       "ebitdaMargins                   2\n",
       "operatingMargins                0\n",
       "trades_per_day                  0\n",
       "avg_rel_spread                  0\n",
       "log_trades_per_day              0\n",
       "floatRatio                      0\n",
       "log_fullTimeEmployees           0\n",
       "log_marketCap                   0\n",
       "dtype: int64"
      ]
     },
     "execution_count": 209,
     "metadata": {},
     "output_type": "execute_result"
    }
   ],
   "source": [
    "X.isna().sum()"
   ]
  },
  {
   "cell_type": "markdown",
   "metadata": {},
   "source": [
    "### Optimal subset"
   ]
  },
  {
   "cell_type": "code",
   "execution_count": 210,
   "metadata": {},
   "outputs": [],
   "source": [
    "imputer = IterativeImputer(random_state=42)\n",
    "X = pd.DataFrame(imputer.fit_transform(X), columns=X.columns, index=X.index)"
   ]
  },
  {
   "cell_type": "code",
   "execution_count": null,
   "metadata": {},
   "outputs": [
    {
     "name": "stdout",
     "output_type": "stream",
     "text": [
      "using up to 0 of 5 predictors:\n",
      "best bic: inf\n",
      "best subset: None\n",
      "----------------------------------------------------------------------------------------------------\n",
      "using up to 1 of 5 predictors:\n",
      "best bic: -402.4141488097845\n",
      "best subset: ('numberOfAnalystOpinions',)\n",
      "----------------------------------------------------------------------------------------------------\n",
      "using up to 2 of 5 predictors:\n",
      "best bic: -402.7240441953366\n",
      "best subset: ('dividendYield', 'numberOfAnalystOpinions')\n",
      "----------------------------------------------------------------------------------------------------\n",
      "using up to 3 of 5 predictors:\n",
      "best bic: -402.7240441953373\n",
      "best subset: ('dividendYield', 'trailingPE', 'numberOfAnalystOpinions')\n",
      "----------------------------------------------------------------------------------------------------\n",
      "using up to 4 of 5 predictors:\n",
      "best bic: -402.7240441953373\n",
      "best subset: ('dividendYield', 'trailingPE', 'numberOfAnalystOpinions')\n",
      "----------------------------------------------------------------------------------------------------\n"
     ]
    }
   ],
   "source": [
    "max_predictors_in_model = 5\n",
    "\n",
    "best_bic = float('inf')\n",
    "best_subset = None\n",
    "\n",
    "for k in range(1, max_predictors_in_model + 1):  \n",
    "    print(f\"using up to {k-1} of {max_predictors_in_model} predictors:\")\n",
    "    print(f\"best bic: {best_bic}\")\n",
    "    print(f\"best subset: {best_subset}\")\n",
    "    print(\"-\"*100)\n",
    "    for subset in itertools.combinations(X.columns, k):\n",
    "        \n",
    "        X_subset = X[list(subset)]\n",
    "        corr_matrix = X_subset.corr()\n",
    "        \n",
    "        # dont allow correlation of over 0.7\n",
    "        if ((corr_matrix >= 0.7).sum() >= 2).any():\n",
    "            # print(subset)\n",
    "            continue\n",
    "\n",
    "        X_subset = sm.add_constant(X_subset)  # Add intercept\n",
    "        model = sm.OLS(y_metrics, X_subset).fit(cov_type=\"HC2\")\n",
    "\n",
    "        bic = model.bic\n",
    "        \n",
    "        if bic < best_bic:\n",
    "            best_bic = bic\n",
    "            best_subset = subset\n",
    "\n",
    "print(f\"Best Subset: {best_subset}\")\n",
    "print(f\"Best BIC: {best_bic}\")"
   ]
  },
  {
   "cell_type": "code",
   "execution_count": 211,
   "metadata": {},
   "outputs": [
    {
     "name": "stdout",
     "output_type": "stream",
     "text": [
      "('trailingEps', 'dividendYield', 'log_marketCap')\n"
     ]
    }
   ],
   "source": [
    "# best_subset = [\n",
    "#     'profitMargins', \n",
    "#     'heldPercentInstitutions', \n",
    "#     'returnOnAssets', \n",
    "#     'operatingMargins', \n",
    "#     'log_fullTimeEmployees'\n",
    "#     # \"targetHighPrice\"\n",
    "# ]\n",
    "best_subset = (\"numberOfAnalystOpinions\", \"trailingEps\", \"dividendYield\", \"log_marketCap\")\n",
    "best_subset = (\"trailingEps\", \"dividendYield\", \"log_marketCap\")\n",
    "print(best_subset)\n",
    "X = X[list(best_subset)]"
   ]
  },
  {
   "cell_type": "code",
   "execution_count": 212,
   "metadata": {},
   "outputs": [
    {
     "data": {
      "text/plain": [
       "trailingEps      0\n",
       "dividendYield    0\n",
       "log_marketCap    0\n",
       "dtype: int64"
      ]
     },
     "execution_count": 212,
     "metadata": {},
     "output_type": "execute_result"
    }
   ],
   "source": [
    "# Ensure you have no nan-values\n",
    "X.isna().sum()"
   ]
  },
  {
   "cell_type": "markdown",
   "metadata": {},
   "source": [
    "### Save the data"
   ]
  },
  {
   "cell_type": "code",
   "execution_count": 213,
   "metadata": {},
   "outputs": [],
   "source": [
    "# X.to_csv(\"../../data/processed/X_regression.csv\")\n",
    "# Y.to_csv(\"../../data/processed/Y_regression.csv\")"
   ]
  },
  {
   "cell_type": "code",
   "execution_count": 214,
   "metadata": {},
   "outputs": [],
   "source": [
    "# X_copy = X.copy()\n",
    "# X_copy.columns"
   ]
  },
  {
   "cell_type": "code",
   "execution_count": 215,
   "metadata": {},
   "outputs": [],
   "source": [
    "# X = X_copy[[\"numberOfAnalystOpinions\", \"trailingEPS\", \"dividendYield\"]]"
   ]
  },
  {
   "cell_type": "markdown",
   "metadata": {},
   "source": [
    "### OLS"
   ]
  },
  {
   "cell_type": "code",
   "execution_count": 216,
   "metadata": {},
   "outputs": [
    {
     "name": "stderr",
     "output_type": "stream",
     "text": [
      "/Library/Frameworks/Python.framework/Versions/3.12/lib/python3.12/site-packages/scipy/stats/_axis_nan_policy.py:531: UserWarning: kurtosistest only valid for n>=20 ... continuing anyway, n=10\n",
      "  res = hypotest_fun_out(*samples, **kwds)\n"
     ]
    },
    {
     "data": {
      "text/html": [
       "<table class=\"simpletable\">\n",
       "<caption>OLS Regression Results</caption>\n",
       "<tr>\n",
       "  <th>Dep. Variable:</th>     <td>normalized_rmse</td> <th>  R-squared:         </th> <td>   0.553</td>\n",
       "</tr>\n",
       "<tr>\n",
       "  <th>Model:</th>                   <td>OLS</td>       <th>  Adj. R-squared:    </th> <td>   0.329</td>\n",
       "</tr>\n",
       "<tr>\n",
       "  <th>Method:</th>             <td>Least Squares</td>  <th>  F-statistic:       </th> <td>   11.86</td>\n",
       "</tr>\n",
       "<tr>\n",
       "  <th>Date:</th>             <td>Mon, 16 Dec 2024</td> <th>  Prob (F-statistic):</th>  <td>0.00620</td>\n",
       "</tr>\n",
       "<tr>\n",
       "  <th>Time:</th>                 <td>19:29:20</td>     <th>  Log-Likelihood:    </th> <td>  39.019</td>\n",
       "</tr>\n",
       "<tr>\n",
       "  <th>No. Observations:</th>      <td>    10</td>      <th>  AIC:               </th> <td>  -70.04</td>\n",
       "</tr>\n",
       "<tr>\n",
       "  <th>Df Residuals:</th>          <td>     6</td>      <th>  BIC:               </th> <td>  -68.83</td>\n",
       "</tr>\n",
       "<tr>\n",
       "  <th>Df Model:</th>              <td>     3</td>      <th>                     </th>     <td> </td>   \n",
       "</tr>\n",
       "<tr>\n",
       "  <th>Covariance Type:</th>         <td>HC2</td>       <th>                     </th>     <td> </td>   \n",
       "</tr>\n",
       "</table>\n",
       "<table class=\"simpletable\">\n",
       "<tr>\n",
       "        <td></td>           <th>coef</th>     <th>std err</th>      <th>z</th>      <th>P>|z|</th>  <th>[0.025</th>    <th>0.975]</th>  \n",
       "</tr>\n",
       "<tr>\n",
       "  <th>const</th>         <td>    1.0669</td> <td>    0.034</td> <td>   31.294</td> <td> 0.000</td> <td>    1.000</td> <td>    1.134</td>\n",
       "</tr>\n",
       "<tr>\n",
       "  <th>trailingEps</th>   <td>   -0.0003</td> <td>    0.001</td> <td>   -0.222</td> <td> 0.824</td> <td>   -0.002</td> <td>    0.002</td>\n",
       "</tr>\n",
       "<tr>\n",
       "  <th>dividendYield</th> <td>   -0.0761</td> <td>    0.065</td> <td>   -1.163</td> <td> 0.245</td> <td>   -0.204</td> <td>    0.052</td>\n",
       "</tr>\n",
       "<tr>\n",
       "  <th>log_marketCap</th> <td>   -0.0033</td> <td>    0.002</td> <td>   -2.135</td> <td> 0.033</td> <td>   -0.006</td> <td>   -0.000</td>\n",
       "</tr>\n",
       "</table>\n",
       "<table class=\"simpletable\">\n",
       "<tr>\n",
       "  <th>Omnibus:</th>       <td> 1.167</td> <th>  Durbin-Watson:     </th> <td>   1.757</td>\n",
       "</tr>\n",
       "<tr>\n",
       "  <th>Prob(Omnibus):</th> <td> 0.558</td> <th>  Jarque-Bera (JB):  </th> <td>   0.813</td>\n",
       "</tr>\n",
       "<tr>\n",
       "  <th>Skew:</th>          <td>-0.612</td> <th>  Prob(JB):          </th> <td>   0.666</td>\n",
       "</tr>\n",
       "<tr>\n",
       "  <th>Kurtosis:</th>      <td> 2.327</td> <th>  Cond. No.          </th> <td>1.30e+03</td>\n",
       "</tr>\n",
       "</table><br/><br/>Notes:<br/>[1] Standard Errors are heteroscedasticity robust (HC2)<br/>[2] The condition number is large, 1.3e+03. This might indicate that there are<br/>strong multicollinearity or other numerical problems."
      ],
      "text/latex": [
       "\\begin{center}\n",
       "\\begin{tabular}{lclc}\n",
       "\\toprule\n",
       "\\textbf{Dep. Variable:}    & normalized\\_rmse & \\textbf{  R-squared:         } &     0.553   \\\\\n",
       "\\textbf{Model:}            &       OLS        & \\textbf{  Adj. R-squared:    } &     0.329   \\\\\n",
       "\\textbf{Method:}           &  Least Squares   & \\textbf{  F-statistic:       } &     11.86   \\\\\n",
       "\\textbf{Date:}             & Mon, 16 Dec 2024 & \\textbf{  Prob (F-statistic):} &  0.00620    \\\\\n",
       "\\textbf{Time:}             &     19:29:20     & \\textbf{  Log-Likelihood:    } &    39.019   \\\\\n",
       "\\textbf{No. Observations:} &          10      & \\textbf{  AIC:               } &    -70.04   \\\\\n",
       "\\textbf{Df Residuals:}     &           6      & \\textbf{  BIC:               } &    -68.83   \\\\\n",
       "\\textbf{Df Model:}         &           3      & \\textbf{                     } &             \\\\\n",
       "\\textbf{Covariance Type:}  &       HC2        & \\textbf{                     } &             \\\\\n",
       "\\bottomrule\n",
       "\\end{tabular}\n",
       "\\begin{tabular}{lcccccc}\n",
       "                        & \\textbf{coef} & \\textbf{std err} & \\textbf{z} & \\textbf{P$> |$z$|$} & \\textbf{[0.025} & \\textbf{0.975]}  \\\\\n",
       "\\midrule\n",
       "\\textbf{const}          &       1.0669  &        0.034     &    31.294  &         0.000        &        1.000    &        1.134     \\\\\n",
       "\\textbf{trailingEps}    &      -0.0003  &        0.001     &    -0.222  &         0.824        &       -0.002    &        0.002     \\\\\n",
       "\\textbf{dividendYield}  &      -0.0761  &        0.065     &    -1.163  &         0.245        &       -0.204    &        0.052     \\\\\n",
       "\\textbf{log\\_marketCap} &      -0.0033  &        0.002     &    -2.135  &         0.033        &       -0.006    &       -0.000     \\\\\n",
       "\\bottomrule\n",
       "\\end{tabular}\n",
       "\\begin{tabular}{lclc}\n",
       "\\textbf{Omnibus:}       &  1.167 & \\textbf{  Durbin-Watson:     } &    1.757  \\\\\n",
       "\\textbf{Prob(Omnibus):} &  0.558 & \\textbf{  Jarque-Bera (JB):  } &    0.813  \\\\\n",
       "\\textbf{Skew:}          & -0.612 & \\textbf{  Prob(JB):          } &    0.666  \\\\\n",
       "\\textbf{Kurtosis:}      &  2.327 & \\textbf{  Cond. No.          } & 1.30e+03  \\\\\n",
       "\\bottomrule\n",
       "\\end{tabular}\n",
       "%\\caption{OLS Regression Results}\n",
       "\\end{center}\n",
       "\n",
       "Notes: \\newline\n",
       " [1] Standard Errors are heteroscedasticity robust (HC2) \\newline\n",
       " [2] The condition number is large, 1.3e+03. This might indicate that there are \\newline\n",
       " strong multicollinearity or other numerical problems."
      ],
      "text/plain": [
       "<class 'statsmodels.iolib.summary.Summary'>\n",
       "\"\"\"\n",
       "                            OLS Regression Results                            \n",
       "==============================================================================\n",
       "Dep. Variable:        normalized_rmse   R-squared:                       0.553\n",
       "Model:                            OLS   Adj. R-squared:                  0.329\n",
       "Method:                 Least Squares   F-statistic:                     11.86\n",
       "Date:                Mon, 16 Dec 2024   Prob (F-statistic):            0.00620\n",
       "Time:                        19:29:20   Log-Likelihood:                 39.019\n",
       "No. Observations:                  10   AIC:                            -70.04\n",
       "Df Residuals:                       6   BIC:                            -68.83\n",
       "Df Model:                           3                                         \n",
       "Covariance Type:                  HC2                                         \n",
       "=================================================================================\n",
       "                    coef    std err          z      P>|z|      [0.025      0.975]\n",
       "---------------------------------------------------------------------------------\n",
       "const             1.0669      0.034     31.294      0.000       1.000       1.134\n",
       "trailingEps      -0.0003      0.001     -0.222      0.824      -0.002       0.002\n",
       "dividendYield    -0.0761      0.065     -1.163      0.245      -0.204       0.052\n",
       "log_marketCap    -0.0033      0.002     -2.135      0.033      -0.006      -0.000\n",
       "==============================================================================\n",
       "Omnibus:                        1.167   Durbin-Watson:                   1.757\n",
       "Prob(Omnibus):                  0.558   Jarque-Bera (JB):                0.813\n",
       "Skew:                          -0.612   Prob(JB):                        0.666\n",
       "Kurtosis:                       2.327   Cond. No.                     1.30e+03\n",
       "==============================================================================\n",
       "\n",
       "Notes:\n",
       "[1] Standard Errors are heteroscedasticity robust (HC2)\n",
       "[2] The condition number is large, 1.3e+03. This might indicate that there are\n",
       "strong multicollinearity or other numerical problems.\n",
       "\"\"\""
      ]
     },
     "execution_count": 216,
     "metadata": {},
     "output_type": "execute_result"
    }
   ],
   "source": [
    "model = OLS(Y, add_constant(X))\n",
    "result = model.fit(cov_type='HC2')\n",
    "result.summary()"
   ]
  },
  {
   "cell_type": "code",
   "execution_count": 217,
   "metadata": {},
   "outputs": [
    {
     "name": "stderr",
     "output_type": "stream",
     "text": [
      "/Library/Frameworks/Python.framework/Versions/3.12/lib/python3.12/site-packages/scipy/stats/_axis_nan_policy.py:531: UserWarning: kurtosistest only valid for n>=20 ... continuing anyway, n=10\n",
      "  res = hypotest_fun_out(*samples, **kwds)\n"
     ]
    },
    {
     "data": {
      "image/png": "[encoded data removed]",
      "text/plain": [
       "<Figure size 1000x600 with 1 Axes>"
      ]
     },
     "metadata": {},
     "output_type": "display_data"
    }
   ],
   "source": [
    "summary_text = result.summary().as_text()\n",
    "\n",
    "# Render the summary as a PNG\n",
    "plt.figure(figsize=(10, 6))\n",
    "plt.text(0.01, 0.99, summary_text, fontsize=10, family='monospace', verticalalignment='top')\n",
    "plt.axis('off')\n",
    "\n",
    "# Save as PNG\n",
    "plt.savefig(\"5_model_summary.png\", dpi=300, bbox_inches='tight')\n",
    "plt.show()"
   ]
  },
  {
   "cell_type": "markdown",
   "metadata": {},
   "source": [
    "## Lasso"
   ]
  },
  {
   "cell_type": "code",
   "execution_count": 218,
   "metadata": {},
   "outputs": [
    {
     "name": "stdout",
     "output_type": "stream",
     "text": [
      "Lasso Regression Summary\n",
      "========================================\n",
      "Alpha (Regularization Strength): 0.01\n",
      "Mean Squared Error (MSE): 0.0001\n",
      "R-Squared (R2): 0.0000\n",
      "\n",
      "Coefficients:\n",
      "Empty DataFrame\n",
      "Columns: [Feature, Coefficient]\n",
      "Index: []\n"
     ]
    }
   ],
   "source": [
    "import pandas as pd\n",
    "from sklearn.linear_model import Lasso\n",
    "from sklearn.metrics import mean_squared_error, r2_score\n",
    "\n",
    "# Fit the Lasso regression model\n",
    "lasso = Lasso(alpha=0.01)  # Adjust alpha for regularization strength\n",
    "lasso.fit(X, Y)\n",
    "\n",
    "# Predict on the test set\n",
    "Y_pred = lasso.predict(X)\n",
    "\n",
    "# Model evaluation\n",
    "mse = mean_squared_error(Y, Y_pred)\n",
    "r2 = r2_score(Y, Y_pred)\n",
    "\n",
    "# Create a summary DataFrame for coefficients\n",
    "coef_summary = pd.DataFrame({\n",
    "    \"Feature\": X.columns,#[col for col in X.columns],  # Assuming feature names as X1, X2, etc.\n",
    "    \"Coefficient\": lasso.coef_\n",
    "})\n",
    "coef_summary = coef_summary[coef_summary[\"Coefficient\"] != 0]  # Optional: Filter non-zero coefficients\n",
    "\n",
    "# Print summary\n",
    "print(\"Lasso Regression Summary\")\n",
    "print(\"=\"*40)\n",
    "print(f\"Alpha (Regularization Strength): {lasso.alpha}\")\n",
    "print(f\"Mean Squared Error (MSE): {mse:.4f}\")\n",
    "print(f\"R-Squared (R2): {r2:.4f}\")\n",
    "print(\"\\nCoefficients:\")\n",
    "print(coef_summary.to_string(index=False))\n"
   ]
  },
  {
   "cell_type": "code",
   "execution_count": 219,
   "metadata": {},
   "outputs": [],
   "source": [
    "features = coef_summary.Feature"
   ]
  },
  {
   "cell_type": "code",
   "execution_count": 220,
   "metadata": {},
   "outputs": [
    {
     "name": "stderr",
     "output_type": "stream",
     "text": [
      "/Library/Frameworks/Python.framework/Versions/3.12/lib/python3.12/site-packages/scipy/stats/_axis_nan_policy.py:531: UserWarning: kurtosistest only valid for n>=20 ... continuing anyway, n=10\n",
      "  res = hypotest_fun_out(*samples, **kwds)\n"
     ]
    },
    {
     "data": {
      "text/html": [
       "<table class=\"simpletable\">\n",
       "<caption>OLS Regression Results</caption>\n",
       "<tr>\n",
       "  <th>Dep. Variable:</th>     <td>normalized_rmse</td> <th>  R-squared:         </th> <td>   0.000</td>\n",
       "</tr>\n",
       "<tr>\n",
       "  <th>Model:</th>                   <td>OLS</td>       <th>  Adj. R-squared:    </th> <td>   0.000</td>\n",
       "</tr>\n",
       "<tr>\n",
       "  <th>Method:</th>             <td>Least Squares</td>  <th>  F-statistic:       </th> <td>     nan</td>\n",
       "</tr>\n",
       "<tr>\n",
       "  <th>Date:</th>             <td>Mon, 16 Dec 2024</td> <th>  Prob (F-statistic):</th>  <td>   nan</td> \n",
       "</tr>\n",
       "<tr>\n",
       "  <th>Time:</th>                 <td>19:29:20</td>     <th>  Log-Likelihood:    </th> <td>  34.995</td>\n",
       "</tr>\n",
       "<tr>\n",
       "  <th>No. Observations:</th>      <td>    10</td>      <th>  AIC:               </th> <td>  -67.99</td>\n",
       "</tr>\n",
       "<tr>\n",
       "  <th>Df Residuals:</th>          <td>     9</td>      <th>  BIC:               </th> <td>  -67.69</td>\n",
       "</tr>\n",
       "<tr>\n",
       "  <th>Df Model:</th>              <td>     0</td>      <th>                     </th>     <td> </td>   \n",
       "</tr>\n",
       "<tr>\n",
       "  <th>Covariance Type:</th>         <td>HC3</td>       <th>                     </th>     <td> </td>   \n",
       "</tr>\n",
       "</table>\n",
       "<table class=\"simpletable\">\n",
       "<tr>\n",
       "    <td></td>       <th>coef</th>     <th>std err</th>      <th>z</th>      <th>P>|z|</th>  <th>[0.025</th>    <th>0.975]</th>  \n",
       "</tr>\n",
       "<tr>\n",
       "  <th>const</th> <td>    0.9925</td> <td>    0.003</td> <td>  386.403</td> <td> 0.000</td> <td>    0.987</td> <td>    0.998</td>\n",
       "</tr>\n",
       "</table>\n",
       "<table class=\"simpletable\">\n",
       "<tr>\n",
       "  <th>Omnibus:</th>       <td> 1.982</td> <th>  Durbin-Watson:     </th> <td>   0.639</td>\n",
       "</tr>\n",
       "<tr>\n",
       "  <th>Prob(Omnibus):</th> <td> 0.371</td> <th>  Jarque-Bera (JB):  </th> <td>   1.240</td>\n",
       "</tr>\n",
       "<tr>\n",
       "  <th>Skew:</th>          <td>-0.804</td> <th>  Prob(JB):          </th> <td>   0.538</td>\n",
       "</tr>\n",
       "<tr>\n",
       "  <th>Kurtosis:</th>      <td> 2.374</td> <th>  Cond. No.          </th> <td>    1.00</td>\n",
       "</tr>\n",
       "</table><br/><br/>Notes:<br/>[1] Standard Errors are heteroscedasticity robust (HC3)"
      ],
      "text/latex": [
       "\\begin{center}\n",
       "\\begin{tabular}{lclc}\n",
       "\\toprule\n",
       "\\textbf{Dep. Variable:}    & normalized\\_rmse & \\textbf{  R-squared:         } &     0.000   \\\\\n",
       "\\textbf{Model:}            &       OLS        & \\textbf{  Adj. R-squared:    } &     0.000   \\\\\n",
       "\\textbf{Method:}           &  Least Squares   & \\textbf{  F-statistic:       } &       nan   \\\\\n",
       "\\textbf{Date:}             & Mon, 16 Dec 2024 & \\textbf{  Prob (F-statistic):} &      nan    \\\\\n",
       "\\textbf{Time:}             &     19:29:20     & \\textbf{  Log-Likelihood:    } &    34.995   \\\\\n",
       "\\textbf{No. Observations:} &          10      & \\textbf{  AIC:               } &    -67.99   \\\\\n",
       "\\textbf{Df Residuals:}     &           9      & \\textbf{  BIC:               } &    -67.69   \\\\\n",
       "\\textbf{Df Model:}         &           0      & \\textbf{                     } &             \\\\\n",
       "\\textbf{Covariance Type:}  &       HC3        & \\textbf{                     } &             \\\\\n",
       "\\bottomrule\n",
       "\\end{tabular}\n",
       "\\begin{tabular}{lcccccc}\n",
       "               & \\textbf{coef} & \\textbf{std err} & \\textbf{z} & \\textbf{P$> |$z$|$} & \\textbf{[0.025} & \\textbf{0.975]}  \\\\\n",
       "\\midrule\n",
       "\\textbf{const} &       0.9925  &        0.003     &   386.403  &         0.000        &        0.987    &        0.998     \\\\\n",
       "\\bottomrule\n",
       "\\end{tabular}\n",
       "\\begin{tabular}{lclc}\n",
       "\\textbf{Omnibus:}       &  1.982 & \\textbf{  Durbin-Watson:     } &    0.639  \\\\\n",
       "\\textbf{Prob(Omnibus):} &  0.371 & \\textbf{  Jarque-Bera (JB):  } &    1.240  \\\\\n",
       "\\textbf{Skew:}          & -0.804 & \\textbf{  Prob(JB):          } &    0.538  \\\\\n",
       "\\textbf{Kurtosis:}      &  2.374 & \\textbf{  Cond. No.          } &     1.00  \\\\\n",
       "\\bottomrule\n",
       "\\end{tabular}\n",
       "%\\caption{OLS Regression Results}\n",
       "\\end{center}\n",
       "\n",
       "Notes: \\newline\n",
       " [1] Standard Errors are heteroscedasticity robust (HC3)"
      ],
      "text/plain": [
       "<class 'statsmodels.iolib.summary.Summary'>\n",
       "\"\"\"\n",
       "                            OLS Regression Results                            \n",
       "==============================================================================\n",
       "Dep. Variable:        normalized_rmse   R-squared:                       0.000\n",
       "Model:                            OLS   Adj. R-squared:                  0.000\n",
       "Method:                 Least Squares   F-statistic:                       nan\n",
       "Date:                Mon, 16 Dec 2024   Prob (F-statistic):                nan\n",
       "Time:                        19:29:20   Log-Likelihood:                 34.995\n",
       "No. Observations:                  10   AIC:                            -67.99\n",
       "Df Residuals:                       9   BIC:                            -67.69\n",
       "Df Model:                           0                                         \n",
       "Covariance Type:                  HC3                                         \n",
       "==============================================================================\n",
       "                 coef    std err          z      P>|z|      [0.025      0.975]\n",
       "------------------------------------------------------------------------------\n",
       "const          0.9925      0.003    386.403      0.000       0.987       0.998\n",
       "==============================================================================\n",
       "Omnibus:                        1.982   Durbin-Watson:                   0.639\n",
       "Prob(Omnibus):                  0.371   Jarque-Bera (JB):                1.240\n",
       "Skew:                          -0.804   Prob(JB):                        0.538\n",
       "Kurtosis:                       2.374   Cond. No.                         1.00\n",
       "==============================================================================\n",
       "\n",
       "Notes:\n",
       "[1] Standard Errors are heteroscedasticity robust (HC3)\n",
       "\"\"\""
      ]
     },
     "execution_count": 220,
     "metadata": {},
     "output_type": "execute_result"
    }
   ],
   "source": [
    "model = OLS(Y, add_constant(X[features]))\n",
    "result = model.fit(cov_type='HC3')\n",
    "result.summary()"
   ]
  }
 ],
 "metadata": {
  "kernelspec": {
   "display_name": "Python 3",
   "language": "python",
   "name": "python3"
  },
  "language_info": {
   "codemirror_mode": {
    "name": "ipython",
    "version": 3
   },
   "file_extension": ".py",
   "mimetype": "text/x-python",
   "name": "python",
   "nbconvert_exporter": "python",
   "pygments_lexer": "ipython3",
   "version": "3.12.3"
  }
 },
 "nbformat": 4,
 "nbformat_minor": 2
}
