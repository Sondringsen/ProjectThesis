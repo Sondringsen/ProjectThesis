{
 "cells": [
  {
   "cell_type": "code",
   "execution_count": 1,
   "metadata": {},
   "outputs": [],
   "source": [
    "import pandas as pd\n",
    "from tensorflow.keras.saving import load_model\n",
    "import numpy as np\n",
    "from sklearn.preprocessing import StandardScaler, MinMaxScaler\n",
    "import matplotlib.pyplot as plt"
   ]
  },
  {
   "cell_type": "markdown",
   "metadata": {},
   "source": [
    "## Some parameters"
   ]
  },
  {
   "cell_type": "code",
   "execution_count": 9,
   "metadata": {},
   "outputs": [],
   "source": [
    "test_day = 0  # must be an element in [0, 1, 2, 3, 4, 5]\n",
    "ticker = \"ADSK\""
   ]
  },
  {
   "cell_type": "markdown",
   "metadata": {},
   "source": [
    "## Helper functions copied from src/models/lstm.py"
   ]
  },
  {
   "cell_type": "code",
   "execution_count": 2,
   "metadata": {},
   "outputs": [],
   "source": [
    "def get_dates_for_training_scheme(df: pd.DataFrame):\n",
    "    \"\"\"\n",
    "    This function returns all dates needed to train, validate and test the model. The training\n",
    "    follows a rolling window type scheme. The data is trained on 4 days and validated on the 5th. \n",
    "    Some portion of the end of the dates are used for testing.\n",
    "\n",
    "    Args:\n",
    "        df (pd.DataFrame): dataframe with data.\n",
    "\n",
    "    Returns:\n",
    "        List[Tuples]: a list of tuples conatining the training and validation/test dates.\n",
    "    \"\"\"\n",
    "    dates = df[\"sip_timestamp\"].dt.day.unique()\n",
    "\n",
    "    date_set = []\n",
    "\n",
    "    num_days_training = 9\n",
    "    num_days_val_test = 1\n",
    "\n",
    "    for i in range(0, len(dates) - num_days_training, num_days_val_test):\n",
    "        date_set.append((dates[i: i + num_days_training], dates[i + num_days_training: i + num_days_training + num_days_val_test]))\n",
    "\n",
    "    return date_set\n",
    "\n",
    "def train_val_test(df: pd.DataFrame, days: tuple[np.ndarray, np.ndarray]):\n",
    "    \"\"\"\n",
    "    Splits a dataframe into training and val/test. The splitting is done by given dates.\n",
    "\n",
    "    Args:\n",
    "        df (pd.DataFrame): dataframe to split into training and test.\n",
    "        days (tuple[np.ndarray, np.ndarray]): a tuple containing two arrays of train days and val/test days respectively\n",
    "\n",
    "    Returns:\n",
    "        tuple[pd.DataFrame, pd.DataFrame]: a train and val/test set of the original dataframe\n",
    "    \"\"\"\n",
    "    \n",
    "    train = df[df[\"sip_timestamp\"].dt.day.isin(days[0])]\n",
    "    val_test = df[df[\"sip_timestamp\"].dt.day.isin(days[1])]\n",
    "\n",
    "    return train, val_test\n",
    "\n",
    "def create_sequences(data: np.ndarray, seq_length: int):\n",
    "    \"\"\"\n",
    "    Convert DataFrame into sequences of specified length for LSTM input.\n",
    "\n",
    "    Args: \n",
    "        data (np.array): complete data containing both x and y\n",
    "        seq_length (int): the length of the sequence considered in the lstm.\n",
    "\n",
    "    Returns:\n",
    "        (np.array, np.array): x and y datasets with the sequences. \n",
    "    \"\"\"\n",
    "    x, y = [], []\n",
    "    for i in range(len(data) - seq_length):\n",
    "        x.append(data[i:i + seq_length, :])  # all columns, including the last one, as features\n",
    "        y.append(data[i + seq_length, -1])  # last column's lagged value as target\n",
    "\n",
    "    return np.array(x), np.array(y)\n",
    "\n",
    "def create_sequences_modified(data, seq_length):\n",
    "    \"\"\"\n",
    "    Convert DataFrame into sequences of specified length for LSTM input. Makes sure sequences do not \n",
    "    contain data from different dates.\n",
    "\n",
    "    Args: \n",
    "        data (np.array): complete data containing both x and y\n",
    "        seq_length (int): the length of the sequence considered in the lstm.\n",
    "\n",
    "    Returns:\n",
    "        (np.array, np.array): x and y datasets with the sequences. \n",
    "    \"\"\"\n",
    "    X, y = [], []\n",
    "    for date, group_data in data.groupby(\"date\"):\n",
    "        group_data = group_data.drop(columns=[\"date\"]).values\n",
    "        X_date, y_date = create_sequences(group_data, seq_length)\n",
    "        X.append(X_date)\n",
    "        y.append(y_date)\n",
    "    return np.concatenate(X), np.concatenate(y)"
   ]
  },
  {
   "cell_type": "code",
   "execution_count": 3,
   "metadata": {},
   "outputs": [],
   "source": [
    "def get_best_config(ticker: str):\n",
    "    config_loss_df = pd.read_csv(\"../../reports/config_space_loss.csv\")\n",
    "    config_loss_df = config_loss_df[config_loss_df[\"ticker\"] == ticker]\n",
    "    \n",
    "    id_min_loss = config_loss_df[\"mse\"].idxmin()\n",
    "    config = config_loss_df.loc[id_min_loss,:]\n",
    "    config = config.drop(index = [\"ticker\", \"mse\"])\n",
    "    config = config.to_dict()\n",
    "    return config"
   ]
  },
  {
   "cell_type": "markdown",
   "metadata": {},
   "source": [
    "## Loading data and creating model"
   ]
  },
  {
   "cell_type": "code",
   "execution_count": 36,
   "metadata": {},
   "outputs": [],
   "source": [
    "df = pd.read_csv(\"../../data/processed/tq_data_gridded/df_tot_gridded.csv\")"
   ]
  },
  {
   "cell_type": "code",
   "execution_count": 10,
   "metadata": {},
   "outputs": [],
   "source": [
    "ticker_data = df[df[\"ticker\"] == ticker].copy()\n",
    "ticker_data[\"sip_timestamp\"] = pd.to_datetime(ticker_data[\"sip_timestamp\"])\n",
    "ticker_data[\"date\"] = ticker_data[\"sip_timestamp\"].dt.date"
   ]
  },
  {
   "cell_type": "code",
   "execution_count": 11,
   "metadata": {},
   "outputs": [
    {
     "name": "stdout",
     "output_type": "stream",
     "text": [
      "\u001b[1m146/146\u001b[0m \u001b[32m━━━━━━━━━━━━━━━━━━━━\u001b[0m\u001b[37m\u001b[0m \u001b[1m1s\u001b[0m 3ms/step\n"
     ]
    }
   ],
   "source": [
    "config = get_best_config(ticker)\n",
    "# config = {'seq_length': 60, 'n_layers': 3, 'units': 16, 'n_features': 1.0, 'l2_reg': 0.0}\n",
    "\n",
    "date_scheme = get_dates_for_training_scheme(ticker_data)\n",
    "\n",
    "num_days_testing = 6\n",
    "date_scheme_test = date_scheme[-num_days_testing:]\n",
    "date_set = date_scheme_test[test_day]\n",
    "\n",
    "train, test = train_val_test(ticker_data, date_set)\n",
    "\n",
    "scaler = StandardScaler()\n",
    "\n",
    "ts = test[\"sip_timestamp\"].iloc[config[\"seq_length\"]:]\n",
    "\n",
    "train = train.drop(columns=[\"ticker\", \"sip_timestamp\"])\n",
    "test = test.drop(columns=[\"ticker\", \"sip_timestamp\"])\n",
    "\n",
    "scaler = StandardScaler()\n",
    "\n",
    "columns_to_standardize = train.columns[:-1] # standardize all columns except date\n",
    "\n",
    "for col in columns_to_standardize:\n",
    "    scaler.fit(train.loc[train[col] != 0, [col]])\n",
    "    train.loc[train[col] != 0, col] = scaler.transform(train.loc[train[col] != 0, [col]])\n",
    "    test.loc[test[col] != 0, col] = scaler.transform(test.loc[test[col] != 0, [col]])\n",
    "\n",
    "# train.loc[:, train.columns != \"date\"] = scaler.fit_transform(train.loc[:, train.columns != \"date\"])\n",
    "# test.loc[:, test.columns != \"date\"] = scaler.transform(test.loc[:, test.columns != \"date\"])\n",
    "\n",
    "X_train, y_train = create_sequences_modified(train, config[\"seq_length\"])\n",
    "X_test, y_test = create_sequences_modified(test, config[\"seq_length\"])\n",
    "\n",
    "model = load_model(f\"../../reports/models/{ticker}-{test_day}.keras\")\n",
    "\n",
    "y_pred = model.predict(X_test).flatten()"
   ]
  },
  {
   "cell_type": "code",
   "execution_count": 12,
   "metadata": {},
   "outputs": [
    {
     "data": {
      "text/plain": [
       "{'seq_length': 12,\n",
       " 'n_layers': 3.0,\n",
       " 'units': 12.0,\n",
       " 'l2_reg': 0.0652471656694728,\n",
       " 'lr': 0.0130134689488177,\n",
       " 'n_features': 6.0}"
      ]
     },
     "execution_count": 12,
     "metadata": {},
     "output_type": "execute_result"
    }
   ],
   "source": [
    "config"
   ]
  },
  {
   "cell_type": "code",
   "execution_count": 13,
   "metadata": {},
   "outputs": [
    {
     "data": {
      "image/png": "[encoded data removed]",
      "text/plain": [
       "<Figure size 1000x600 with 1 Axes>"
      ]
     },
     "metadata": {},
     "output_type": "display_data"
    }
   ],
   "source": [
    "subset = slice(10, 20)\n",
    "\n",
    "plt.figure(figsize=(10, 6))\n",
    "plt.scatter(ts.iloc[subset], y_pred[subset], label=\"pred\")\n",
    "plt.scatter(ts.iloc[subset], y_test[subset], label=\"true\")\n",
    "plt.legend()\n",
    "plt.title(f\"Model prediction against true values for test day {test_day} for {ticker}\")\n",
    "plt.show()"
   ]
  },
  {
   "cell_type": "code",
   "execution_count": 18,
   "metadata": {},
   "outputs": [
    {
     "data": {
      "image/png": "[encoded data removed]",
      "text/plain": [
       "<Figure size 1000x600 with 1 Axes>"
      ]
     },
     "metadata": {},
     "output_type": "display_data"
    }
   ],
   "source": [
    "mn = 4020\n",
    "mx = 4180\n",
    "\n",
    "plt.figure(figsize=(10, 6))\n",
    "plt.plot(ts.iloc[mn:mx], y_pred[mn:mx], label=\"pred\", alpha=0.5)\n",
    "plt.plot(ts.iloc[mn:mx], y_test[mn:mx], label=\"true\", alpha=0.5)\n",
    "plt.legend()\n",
    "plt.title(f\"Model prediction against true values for test day {test_day} for {ticker}\")\n",
    "plt.show()"
   ]
  },
  {
   "cell_type": "code",
   "execution_count": 58,
   "metadata": {},
   "outputs": [
    {
     "name": "stdout",
     "output_type": "stream",
     "text": [
      "Model loss 0.04016758223096554\n",
      "Martingale loss 0.04002045428354976\n",
      "Martingale better\n"
     ]
    }
   ],
   "source": [
    "model_loss = np.mean((y_test-y_pred)**2)\n",
    "martingale_loss = np.mean((y_test-0)**2)\n",
    "\n",
    "print(f\"Model loss {model_loss}\")\n",
    "print(f\"Martingale loss {martingale_loss}\")\n",
    "\n",
    "if model_loss <= martingale_loss:\n",
    "    print(\"Model better\")\n",
    "else:\n",
    "    print(\"Martingale better\")"
   ]
  },
  {
   "cell_type": "markdown",
   "metadata": {},
   "source": [
    "### What models beat the benchmark"
   ]
  },
  {
   "cell_type": "code",
   "execution_count": 4,
   "metadata": {},
   "outputs": [],
   "source": [
    "df = pd.read_csv(\"../../data/processed/tq_data_gridded/df_tot_gridded.csv\")"
   ]
  },
  {
   "cell_type": "code",
   "execution_count": 9,
   "metadata": {},
   "outputs": [
    {
     "name": "stdout",
     "output_type": "stream",
     "text": [
      "ADSK\n",
      "AEP\n",
      "AHH\n",
      "ALEC\n",
      "AMED\n",
      "APYX\n",
      "ARTNA\n",
      "ARVN\n",
      "BANF\n",
      "BELFB\n",
      "BKD\n",
      "BTU\n",
      "BV\n",
      "CB\n",
      "CFBK\n",
      "CHE\n",
      "CIVB\n",
      "CLDX\n",
      "CNA\n",
      "COHU\n",
      "CRBP\n",
      "CRMD\n",
      "CRMT\n",
      "CWT\n",
      "DOMO\n",
      "DVAX\n",
      "EAF\n",
      "EPM\n",
      "ESRT\n",
      "EVTC\n",
      "FDS\n",
      "FGBI\n",
      "FITB\n",
      "FULT\n",
      "FWONA\n",
      "GCI\n",
      "GDDY\n",
      "GNE\n",
      "HAL\n",
      "HFBL\n",
      "HLF\n",
      "HTBI\n",
      "IBCP\n",
      "ICAD\n",
      "IPG\n",
      "JELD\n",
      "KEY\n",
      "LYTS\n",
      "MARA\n",
      "MEDP\n",
      "MESA\n",
      "MMM\n",
      "NDAQ\n",
      "NGVT\n",
      "NNI\n",
      "NVEC\n",
      "NX\n",
      "NYT\n",
      "OPI\n",
      "OXM\n",
      "PATK\n",
      "PFS\n",
      "PHX\n",
      "PODD\n",
      "POR\n",
      "POWL\n",
      "PPBI\n",
      "QRVO\n",
      "RCM\n",
      "ROCK\n",
      "RRGB\n",
      "SABR\n",
      "SACH\n",
      "SEM\n",
      "SLP\n",
      "TER\n",
      "TIPT\n",
      "TPIC\n",
      "TTWO\n",
      "TXN\n",
      "UNP\n",
      "USFD\n",
      "USPH\n",
      "V\n",
      "VNDA\n",
      "VSH\n",
      "WAB\n",
      "WBA\n",
      "WGO\n",
      "WHG\n",
      "WKHS\n",
      "WLK\n",
      "WWD\n",
      "XELB\n",
      "XTNT\n"
     ]
    }
   ],
   "source": [
    "tot_loss_dic = {}\n",
    "\n",
    "for ticker in df[\"ticker\"].unique():\n",
    "    print(f\"{ticker}\")\n",
    "    # if ticker != \"AMED\": continue\n",
    "    tot_loss_dic[ticker] = {\"test_day\": [], \"model_loss\": [], \"martingale_loss\": [], \"model_best\": []}\n",
    "\n",
    "    ticker_data = df[df[\"ticker\"] == ticker].copy()\n",
    "    ticker_data[\"sip_timestamp\"] = pd.to_datetime(ticker_data[\"sip_timestamp\"])\n",
    "    ticker_data[\"date\"] = ticker_data[\"sip_timestamp\"].dt.date\n",
    "    try:\n",
    "        config = get_best_config(ticker)\n",
    "    except:\n",
    "        continue\n",
    "\n",
    "    date_scheme = get_dates_for_training_scheme(ticker_data)\n",
    "\n",
    "    num_days_testing = 6\n",
    "    date_scheme_test = date_scheme[-num_days_testing:]\n",
    "\n",
    "    \n",
    "    for test_day in range(6):\n",
    "        date_set = date_scheme_test[test_day]\n",
    "\n",
    "        train, test = train_val_test(ticker_data, date_set)\n",
    "\n",
    "        scaler = StandardScaler()\n",
    "\n",
    "        train = train.drop(columns=[\"ticker\", \"sip_timestamp\"])\n",
    "        test = test.drop(columns=[\"ticker\", \"sip_timestamp\"])\n",
    "\n",
    "        scaler = StandardScaler()\n",
    "\n",
    "        columns_to_standardize = train.columns[:-1] # standardize all columns except date\n",
    "\n",
    "        for col in columns_to_standardize:\n",
    "            scaler.fit(train.loc[train[col] != 0, [col]])\n",
    "            train.loc[train[col] != 0, col] = scaler.transform(train.loc[train[col] != 0, [col]])\n",
    "            test.loc[test[col] != 0, col] = scaler.transform(test.loc[test[col] != 0, [col]])\n",
    "\n",
    "        X_train, y_train = create_sequences_modified(train, config[\"seq_length\"])\n",
    "        X_test, y_test = create_sequences_modified(test, config[\"seq_length\"])\n",
    "\n",
    "        model = load_model(f\"../../reports/models/{ticker}-{test_day}.keras\")\n",
    "\n",
    "        y_pred = model.predict(X_test, verbose=False).flatten()\n",
    "\n",
    "        model_loss = np.mean((y_test-y_pred)**2)\n",
    "        martingale_loss = np.mean((y_test-0)**2)\n",
    "\n",
    "        tot_loss_dic[ticker][\"test_day\"].append(test_day)\n",
    "        tot_loss_dic[ticker][\"model_loss\"].append(model_loss)\n",
    "        tot_loss_dic[ticker][\"martingale_loss\"].append(martingale_loss)\n",
    "        tot_loss_dic[ticker][\"model_best\"].append(1 if model_loss <= martingale_loss else 0)\n"
   ]
  },
  {
   "cell_type": "code",
   "execution_count": 10,
   "metadata": {},
   "outputs": [
    {
     "data": {
      "text/html": [
       "<div>\n",
       "<style scoped>\n",
       "    .dataframe tbody tr th:only-of-type {\n",
       "        vertical-align: middle;\n",
       "    }\n",
       "\n",
       "    .dataframe tbody tr th {\n",
       "        vertical-align: top;\n",
       "    }\n",
       "\n",
       "    .dataframe thead th {\n",
       "        text-align: right;\n",
       "    }\n",
       "</style>\n",
       "<table border=\"1\" class=\"dataframe\">\n",
       "  <thead>\n",
       "    <tr style=\"text-align: right;\">\n",
       "      <th></th>\n",
       "      <th>test_day</th>\n",
       "      <th>model_loss</th>\n",
       "      <th>martingale_loss</th>\n",
       "      <th>model_best</th>\n",
       "      <th>ticker</th>\n",
       "    </tr>\n",
       "  </thead>\n",
       "  <tbody>\n",
       "    <tr>\n",
       "      <th>0</th>\n",
       "      <td>0.0</td>\n",
       "      <td>0.348235</td>\n",
       "      <td>0.350099</td>\n",
       "      <td>1.0</td>\n",
       "      <td>ADSK</td>\n",
       "    </tr>\n",
       "    <tr>\n",
       "      <th>1</th>\n",
       "      <td>1.0</td>\n",
       "      <td>0.310167</td>\n",
       "      <td>0.310779</td>\n",
       "      <td>1.0</td>\n",
       "      <td>ADSK</td>\n",
       "    </tr>\n",
       "    <tr>\n",
       "      <th>2</th>\n",
       "      <td>2.0</td>\n",
       "      <td>0.328111</td>\n",
       "      <td>0.327487</td>\n",
       "      <td>0.0</td>\n",
       "      <td>ADSK</td>\n",
       "    </tr>\n",
       "    <tr>\n",
       "      <th>3</th>\n",
       "      <td>3.0</td>\n",
       "      <td>0.282636</td>\n",
       "      <td>0.285528</td>\n",
       "      <td>1.0</td>\n",
       "      <td>ADSK</td>\n",
       "    </tr>\n",
       "    <tr>\n",
       "      <th>4</th>\n",
       "      <td>4.0</td>\n",
       "      <td>0.361966</td>\n",
       "      <td>0.363682</td>\n",
       "      <td>1.0</td>\n",
       "      <td>ADSK</td>\n",
       "    </tr>\n",
       "    <tr>\n",
       "      <th>...</th>\n",
       "      <td>...</td>\n",
       "      <td>...</td>\n",
       "      <td>...</td>\n",
       "      <td>...</td>\n",
       "      <td>...</td>\n",
       "    </tr>\n",
       "    <tr>\n",
       "      <th>265</th>\n",
       "      <td>1.0</td>\n",
       "      <td>0.209940</td>\n",
       "      <td>0.207672</td>\n",
       "      <td>0.0</td>\n",
       "      <td>JELD</td>\n",
       "    </tr>\n",
       "    <tr>\n",
       "      <th>266</th>\n",
       "      <td>2.0</td>\n",
       "      <td>0.198075</td>\n",
       "      <td>0.197375</td>\n",
       "      <td>0.0</td>\n",
       "      <td>JELD</td>\n",
       "    </tr>\n",
       "    <tr>\n",
       "      <th>267</th>\n",
       "      <td>3.0</td>\n",
       "      <td>0.279967</td>\n",
       "      <td>0.278788</td>\n",
       "      <td>0.0</td>\n",
       "      <td>JELD</td>\n",
       "    </tr>\n",
       "    <tr>\n",
       "      <th>268</th>\n",
       "      <td>4.0</td>\n",
       "      <td>0.299285</td>\n",
       "      <td>0.298704</td>\n",
       "      <td>0.0</td>\n",
       "      <td>JELD</td>\n",
       "    </tr>\n",
       "    <tr>\n",
       "      <th>269</th>\n",
       "      <td>5.0</td>\n",
       "      <td>0.267627</td>\n",
       "      <td>0.269130</td>\n",
       "      <td>1.0</td>\n",
       "      <td>JELD</td>\n",
       "    </tr>\n",
       "  </tbody>\n",
       "</table>\n",
       "<p>270 rows × 5 columns</p>\n",
       "</div>"
      ],
      "text/plain": [
       "     test_day  model_loss  martingale_loss  model_best ticker\n",
       "0         0.0    0.348235         0.350099         1.0   ADSK\n",
       "1         1.0    0.310167         0.310779         1.0   ADSK\n",
       "2         2.0    0.328111         0.327487         0.0   ADSK\n",
       "3         3.0    0.282636         0.285528         1.0   ADSK\n",
       "4         4.0    0.361966         0.363682         1.0   ADSK\n",
       "..        ...         ...              ...         ...    ...\n",
       "265       1.0    0.209940         0.207672         0.0   JELD\n",
       "266       2.0    0.198075         0.197375         0.0   JELD\n",
       "267       3.0    0.279967         0.278788         0.0   JELD\n",
       "268       4.0    0.299285         0.298704         0.0   JELD\n",
       "269       5.0    0.267627         0.269130         1.0   JELD\n",
       "\n",
       "[270 rows x 5 columns]"
      ]
     },
     "execution_count": 10,
     "metadata": {},
     "output_type": "execute_result"
    }
   ],
   "source": [
    "df_list = []\n",
    "for ticker, data in tot_loss_dic.items():\n",
    "    temp_df = pd.DataFrame(data) \n",
    "    temp_df['ticker'] = ticker    \n",
    "    df_list.append(temp_df)\n",
    "\n",
    "result_df = pd.concat(df_list, ignore_index=True)\n",
    "\n",
    "result_df"
   ]
  },
  {
   "cell_type": "code",
   "execution_count": 11,
   "metadata": {},
   "outputs": [
    {
     "data": {
      "text/plain": [
       "0.28888888888888886"
      ]
     },
     "execution_count": 11,
     "metadata": {},
     "output_type": "execute_result"
    }
   ],
   "source": [
    "result_df.model_best.mean()"
   ]
  },
  {
   "cell_type": "code",
   "execution_count": 12,
   "metadata": {},
   "outputs": [
    {
     "data": {
      "text/plain": [
       "test_day\n",
       "0.0    0.400000\n",
       "1.0    0.266667\n",
       "2.0    0.222222\n",
       "3.0    0.266667\n",
       "4.0    0.244444\n",
       "5.0    0.333333\n",
       "Name: model_best, dtype: float64"
      ]
     },
     "execution_count": 12,
     "metadata": {},
     "output_type": "execute_result"
    }
   ],
   "source": [
    "result_df.groupby(by=\"test_day\")[\"model_best\"].mean()"
   ]
  }
 ],
 "metadata": {
  "kernelspec": {
   "display_name": "Python 3",
   "language": "python",
   "name": "python3"
  },
  "language_info": {
   "codemirror_mode": {
    "name": "ipython",
    "version": 3
   },
   "file_extension": ".py",
   "mimetype": "text/x-python",
   "name": "python",
   "nbconvert_exporter": "python",
   "pygments_lexer": "ipython3",
   "version": "3.12.3"
  }
 },
 "nbformat": 4,
 "nbformat_minor": 2
}
