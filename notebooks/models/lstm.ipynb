{
 "cells": [
  {
   "cell_type": "code",
   "execution_count": 1,
   "metadata": {},
   "outputs": [],
   "source": [
    "import pandas as pd\n",
    "import tensorflow as tf\n",
    "from tensorflow.keras.models import Sequential\n",
    "from tensorflow.keras.layers import LSTM, Dense\n",
    "from sklearn.preprocessing import MinMaxScaler\n",
    "import numpy as np\n",
    "import matplotlib.pyplot as plt"
   ]
  },
  {
   "cell_type": "code",
   "execution_count": 3,
   "metadata": {},
   "outputs": [
    {
     "data": {
      "text/html": [
       "<div>\n",
       "<style scoped>\n",
       "    .dataframe tbody tr th:only-of-type {\n",
       "        vertical-align: middle;\n",
       "    }\n",
       "\n",
       "    .dataframe tbody tr th {\n",
       "        vertical-align: top;\n",
       "    }\n",
       "\n",
       "    .dataframe thead th {\n",
       "        text-align: right;\n",
       "    }\n",
       "</style>\n",
       "<table border=\"1\" class=\"dataframe\">\n",
       "  <thead>\n",
       "    <tr style=\"text-align: right;\">\n",
       "      <th></th>\n",
       "      <th>ticker</th>\n",
       "      <th>sip_timestamp</th>\n",
       "      <th>ask_price</th>\n",
       "      <th>ask_size</th>\n",
       "      <th>bid_price</th>\n",
       "      <th>bid_size</th>\n",
       "      <th>last_trade_price</th>\n",
       "      <th>last_trade_size</th>\n",
       "      <th>mid_price</th>\n",
       "    </tr>\n",
       "  </thead>\n",
       "  <tbody>\n",
       "    <tr>\n",
       "      <th>0</th>\n",
       "      <td>ADSK</td>\n",
       "      <td>2024-09-03 09:31:00</td>\n",
       "      <td>265.9</td>\n",
       "      <td>1.0</td>\n",
       "      <td>250.01</td>\n",
       "      <td>1.0</td>\n",
       "      <td>259.02</td>\n",
       "      <td>10.0</td>\n",
       "      <td>257.955</td>\n",
       "    </tr>\n",
       "    <tr>\n",
       "      <th>1</th>\n",
       "      <td>ADSK</td>\n",
       "      <td>2024-09-03 09:31:10</td>\n",
       "      <td>265.9</td>\n",
       "      <td>1.0</td>\n",
       "      <td>250.01</td>\n",
       "      <td>1.0</td>\n",
       "      <td>259.01</td>\n",
       "      <td>4.0</td>\n",
       "      <td>257.955</td>\n",
       "    </tr>\n",
       "    <tr>\n",
       "      <th>2</th>\n",
       "      <td>ADSK</td>\n",
       "      <td>2024-09-03 09:31:20</td>\n",
       "      <td>265.9</td>\n",
       "      <td>1.0</td>\n",
       "      <td>250.01</td>\n",
       "      <td>1.0</td>\n",
       "      <td>259.01</td>\n",
       "      <td>4.0</td>\n",
       "      <td>257.955</td>\n",
       "    </tr>\n",
       "    <tr>\n",
       "      <th>3</th>\n",
       "      <td>ADSK</td>\n",
       "      <td>2024-09-03 09:31:30</td>\n",
       "      <td>265.9</td>\n",
       "      <td>1.0</td>\n",
       "      <td>250.01</td>\n",
       "      <td>1.0</td>\n",
       "      <td>259.01</td>\n",
       "      <td>4.0</td>\n",
       "      <td>257.955</td>\n",
       "    </tr>\n",
       "    <tr>\n",
       "      <th>4</th>\n",
       "      <td>ADSK</td>\n",
       "      <td>2024-09-03 09:31:40</td>\n",
       "      <td>265.9</td>\n",
       "      <td>1.0</td>\n",
       "      <td>250.01</td>\n",
       "      <td>1.0</td>\n",
       "      <td>259.01</td>\n",
       "      <td>4.0</td>\n",
       "      <td>257.955</td>\n",
       "    </tr>\n",
       "  </tbody>\n",
       "</table>\n",
       "</div>"
      ],
      "text/plain": [
       "  ticker        sip_timestamp  ask_price  ask_size  bid_price  bid_size  \\\n",
       "0   ADSK  2024-09-03 09:31:00      265.9       1.0     250.01       1.0   \n",
       "1   ADSK  2024-09-03 09:31:10      265.9       1.0     250.01       1.0   \n",
       "2   ADSK  2024-09-03 09:31:20      265.9       1.0     250.01       1.0   \n",
       "3   ADSK  2024-09-03 09:31:30      265.9       1.0     250.01       1.0   \n",
       "4   ADSK  2024-09-03 09:31:40      265.9       1.0     250.01       1.0   \n",
       "\n",
       "   last_trade_price  last_trade_size  mid_price  \n",
       "0            259.02             10.0    257.955  \n",
       "1            259.01              4.0    257.955  \n",
       "2            259.01              4.0    257.955  \n",
       "3            259.01              4.0    257.955  \n",
       "4            259.01              4.0    257.955  "
      ]
     },
     "execution_count": 3,
     "metadata": {},
     "output_type": "execute_result"
    }
   ],
   "source": [
    "df_train = pd.read_csv(\"../../data/processed/tq_data_gridded/2024-09-03_gridded.csv\")\n",
    "df_train.head()"
   ]
  },
  {
   "cell_type": "code",
   "execution_count": 4,
   "metadata": {},
   "outputs": [
    {
     "data": {
      "text/html": [
       "<div>\n",
       "<style scoped>\n",
       "    .dataframe tbody tr th:only-of-type {\n",
       "        vertical-align: middle;\n",
       "    }\n",
       "\n",
       "    .dataframe tbody tr th {\n",
       "        vertical-align: top;\n",
       "    }\n",
       "\n",
       "    .dataframe thead th {\n",
       "        text-align: right;\n",
       "    }\n",
       "</style>\n",
       "<table border=\"1\" class=\"dataframe\">\n",
       "  <thead>\n",
       "    <tr style=\"text-align: right;\">\n",
       "      <th></th>\n",
       "      <th>ticker</th>\n",
       "      <th>sip_timestamp</th>\n",
       "      <th>ask_price</th>\n",
       "      <th>ask_size</th>\n",
       "      <th>bid_price</th>\n",
       "      <th>bid_size</th>\n",
       "      <th>last_trade_price</th>\n",
       "      <th>last_trade_size</th>\n",
       "      <th>mid_price</th>\n",
       "    </tr>\n",
       "  </thead>\n",
       "  <tbody>\n",
       "    <tr>\n",
       "      <th>0</th>\n",
       "      <td>ADSK</td>\n",
       "      <td>2024-09-17 09:47:30</td>\n",
       "      <td>273.5</td>\n",
       "      <td>1.0</td>\n",
       "      <td>268.02</td>\n",
       "      <td>1.0</td>\n",
       "      <td>268.45</td>\n",
       "      <td>1.0</td>\n",
       "      <td>270.76</td>\n",
       "    </tr>\n",
       "    <tr>\n",
       "      <th>1</th>\n",
       "      <td>ADSK</td>\n",
       "      <td>2024-09-17 09:47:40</td>\n",
       "      <td>273.5</td>\n",
       "      <td>1.0</td>\n",
       "      <td>268.02</td>\n",
       "      <td>1.0</td>\n",
       "      <td>268.45</td>\n",
       "      <td>1.0</td>\n",
       "      <td>270.76</td>\n",
       "    </tr>\n",
       "    <tr>\n",
       "      <th>2</th>\n",
       "      <td>ADSK</td>\n",
       "      <td>2024-09-17 09:47:50</td>\n",
       "      <td>273.5</td>\n",
       "      <td>1.0</td>\n",
       "      <td>268.02</td>\n",
       "      <td>1.0</td>\n",
       "      <td>268.45</td>\n",
       "      <td>1.0</td>\n",
       "      <td>270.76</td>\n",
       "    </tr>\n",
       "    <tr>\n",
       "      <th>3</th>\n",
       "      <td>ADSK</td>\n",
       "      <td>2024-09-17 09:48:00</td>\n",
       "      <td>273.5</td>\n",
       "      <td>1.0</td>\n",
       "      <td>268.02</td>\n",
       "      <td>1.0</td>\n",
       "      <td>268.45</td>\n",
       "      <td>1.0</td>\n",
       "      <td>270.76</td>\n",
       "    </tr>\n",
       "    <tr>\n",
       "      <th>4</th>\n",
       "      <td>ADSK</td>\n",
       "      <td>2024-09-17 09:48:10</td>\n",
       "      <td>273.5</td>\n",
       "      <td>1.0</td>\n",
       "      <td>268.02</td>\n",
       "      <td>1.0</td>\n",
       "      <td>268.45</td>\n",
       "      <td>1.0</td>\n",
       "      <td>270.76</td>\n",
       "    </tr>\n",
       "  </tbody>\n",
       "</table>\n",
       "</div>"
      ],
      "text/plain": [
       "  ticker        sip_timestamp  ask_price  ask_size  bid_price  bid_size  \\\n",
       "0   ADSK  2024-09-17 09:47:30      273.5       1.0     268.02       1.0   \n",
       "1   ADSK  2024-09-17 09:47:40      273.5       1.0     268.02       1.0   \n",
       "2   ADSK  2024-09-17 09:47:50      273.5       1.0     268.02       1.0   \n",
       "3   ADSK  2024-09-17 09:48:00      273.5       1.0     268.02       1.0   \n",
       "4   ADSK  2024-09-17 09:48:10      273.5       1.0     268.02       1.0   \n",
       "\n",
       "   last_trade_price  last_trade_size  mid_price  \n",
       "0            268.45              1.0     270.76  \n",
       "1            268.45              1.0     270.76  \n",
       "2            268.45              1.0     270.76  \n",
       "3            268.45              1.0     270.76  \n",
       "4            268.45              1.0     270.76  "
      ]
     },
     "execution_count": 4,
     "metadata": {},
     "output_type": "execute_result"
    }
   ],
   "source": [
    "df_test = pd.read_csv(\"../../data/processed/tq_data_gridded/2024-09-17_gridded.csv\")\n",
    "df_test.head()"
   ]
  },
  {
   "cell_type": "code",
   "execution_count": 5,
   "metadata": {},
   "outputs": [
    {
     "data": {
      "text/plain": [
       "ticker\n",
       "CB     2340\n",
       "WBA    2340\n",
       "UNP    2340\n",
       "MMM    2339\n",
       "TXN    2339\n",
       "Name: sip_timestamp, dtype: int64"
      ]
     },
     "execution_count": 5,
     "metadata": {},
     "output_type": "execute_result"
    }
   ],
   "source": [
    "datapoints_per_ticker = df_train.groupby(by=\"ticker\")[\"sip_timestamp\"].apply(\"count\").sort_values(ascending=False)\n",
    "datapoints_per_ticker.head()"
   ]
  },
  {
   "cell_type": "code",
   "execution_count": 35,
   "metadata": {},
   "outputs": [
    {
     "name": "stdout",
     "output_type": "stream",
     "text": [
      "Epoch 1/10\n"
     ]
    },
    {
     "name": "stderr",
     "output_type": "stream",
     "text": [
      "/Library/Frameworks/Python.framework/Versions/3.12/lib/python3.12/site-packages/keras/src/layers/rnn/rnn.py:204: UserWarning: Do not pass an `input_shape`/`input_dim` argument to a layer. When using Sequential models, prefer using an `Input(shape)` object as the first layer in the model instead.\n",
      "  super().__init__(**kwargs)\n"
     ]
    },
    {
     "name": "stdout",
     "output_type": "stream",
     "text": [
      "\u001b[1m73/73\u001b[0m \u001b[32m━━━━━━━━━━━━━━━━━━━━\u001b[0m\u001b[37m\u001b[0m \u001b[1m1s\u001b[0m 3ms/step - loss: 0.1741\n",
      "Epoch 2/10\n",
      "\u001b[1m73/73\u001b[0m \u001b[32m━━━━━━━━━━━━━━━━━━━━\u001b[0m\u001b[37m\u001b[0m \u001b[1m0s\u001b[0m 3ms/step - loss: 0.0041\n",
      "Epoch 3/10\n",
      "\u001b[1m73/73\u001b[0m \u001b[32m━━━━━━━━━━━━━━━━━━━━\u001b[0m\u001b[37m\u001b[0m \u001b[1m0s\u001b[0m 2ms/step - loss: 0.0038\n",
      "Epoch 4/10\n",
      "\u001b[1m73/73\u001b[0m \u001b[32m━━━━━━━━━━━━━━━━━━━━\u001b[0m\u001b[37m\u001b[0m \u001b[1m0s\u001b[0m 2ms/step - loss: 0.0026  \n",
      "Epoch 5/10\n",
      "\u001b[1m73/73\u001b[0m \u001b[32m━━━━━━━━━━━━━━━━━━━━\u001b[0m\u001b[37m\u001b[0m \u001b[1m0s\u001b[0m 2ms/step - loss: 0.0033\n",
      "Epoch 6/10\n",
      "\u001b[1m73/73\u001b[0m \u001b[32m━━━━━━━━━━━━━━━━━━━━\u001b[0m\u001b[37m\u001b[0m \u001b[1m0s\u001b[0m 2ms/step - loss: 0.0030\n",
      "Epoch 7/10\n",
      "\u001b[1m73/73\u001b[0m \u001b[32m━━━━━━━━━━━━━━━━━━━━\u001b[0m\u001b[37m\u001b[0m \u001b[1m0s\u001b[0m 2ms/step - loss: 0.0027\n",
      "Epoch 8/10\n",
      "\u001b[1m73/73\u001b[0m \u001b[32m━━━━━━━━━━━━━━━━━━━━\u001b[0m\u001b[37m\u001b[0m \u001b[1m0s\u001b[0m 2ms/step - loss: 0.0026  \n",
      "Epoch 9/10\n",
      "\u001b[1m73/73\u001b[0m \u001b[32m━━━━━━━━━━━━━━━━━━━━\u001b[0m\u001b[37m\u001b[0m \u001b[1m0s\u001b[0m 2ms/step - loss: 0.0025\n",
      "Epoch 10/10\n",
      "\u001b[1m73/73\u001b[0m \u001b[32m━━━━━━━━━━━━━━━━━━━━\u001b[0m\u001b[37m\u001b[0m \u001b[1m0s\u001b[0m 2ms/step - loss: 0.0023\n"
     ]
    },
    {
     "data": {
      "text/html": [
       "<pre style=\"white-space:pre;overflow-x:auto;line-height:normal;font-family:Menlo,'DejaVu Sans Mono',consolas,'Courier New',monospace\"><span style=\"font-weight: bold\">Model: \"sequential_11\"</span>\n",
       "</pre>\n"
      ],
      "text/plain": [
       "\u001b[1mModel: \"sequential_11\"\u001b[0m\n"
      ]
     },
     "metadata": {},
     "output_type": "display_data"
    },
    {
     "data": {
      "text/html": [
       "<pre style=\"white-space:pre;overflow-x:auto;line-height:normal;font-family:Menlo,'DejaVu Sans Mono',consolas,'Courier New',monospace\">┏━━━━━━━━━━━━━━━━━━━━━━━━━━━━━━━━━┳━━━━━━━━━━━━━━━━━━━━━━━━┳━━━━━━━━━━━━━━━┓\n",
       "┃<span style=\"font-weight: bold\"> Layer (type)                    </span>┃<span style=\"font-weight: bold\"> Output Shape           </span>┃<span style=\"font-weight: bold\">       Param # </span>┃\n",
       "┡━━━━━━━━━━━━━━━━━━━━━━━━━━━━━━━━━╇━━━━━━━━━━━━━━━━━━━━━━━━╇━━━━━━━━━━━━━━━┩\n",
       "│ lstm_29 (<span style=\"color: #0087ff; text-decoration-color: #0087ff\">LSTM</span>)                  │ (<span style=\"color: #00d7ff; text-decoration-color: #00d7ff\">None</span>, <span style=\"color: #00af00; text-decoration-color: #00af00\">10</span>, <span style=\"color: #00af00; text-decoration-color: #00af00\">32</span>)         │         <span style=\"color: #00af00; text-decoration-color: #00af00\">4,992</span> │\n",
       "├─────────────────────────────────┼────────────────────────┼───────────────┤\n",
       "│ lstm_30 (<span style=\"color: #0087ff; text-decoration-color: #0087ff\">LSTM</span>)                  │ (<span style=\"color: #00d7ff; text-decoration-color: #00d7ff\">None</span>, <span style=\"color: #00af00; text-decoration-color: #00af00\">32</span>)             │         <span style=\"color: #00af00; text-decoration-color: #00af00\">8,320</span> │\n",
       "├─────────────────────────────────┼────────────────────────┼───────────────┤\n",
       "│ dense_11 (<span style=\"color: #0087ff; text-decoration-color: #0087ff\">Dense</span>)                │ (<span style=\"color: #00d7ff; text-decoration-color: #00d7ff\">None</span>, <span style=\"color: #00af00; text-decoration-color: #00af00\">1</span>)              │            <span style=\"color: #00af00; text-decoration-color: #00af00\">33</span> │\n",
       "└─────────────────────────────────┴────────────────────────┴───────────────┘\n",
       "</pre>\n"
      ],
      "text/plain": [
       "┏━━━━━━━━━━━━━━━━━━━━━━━━━━━━━━━━━┳━━━━━━━━━━━━━━━━━━━━━━━━┳━━━━━━━━━━━━━━━┓\n",
       "┃\u001b[1m \u001b[0m\u001b[1mLayer (type)                   \u001b[0m\u001b[1m \u001b[0m┃\u001b[1m \u001b[0m\u001b[1mOutput Shape          \u001b[0m\u001b[1m \u001b[0m┃\u001b[1m \u001b[0m\u001b[1m      Param #\u001b[0m\u001b[1m \u001b[0m┃\n",
       "┡━━━━━━━━━━━━━━━━━━━━━━━━━━━━━━━━━╇━━━━━━━━━━━━━━━━━━━━━━━━╇━━━━━━━━━━━━━━━┩\n",
       "│ lstm_29 (\u001b[38;5;33mLSTM\u001b[0m)                  │ (\u001b[38;5;45mNone\u001b[0m, \u001b[38;5;34m10\u001b[0m, \u001b[38;5;34m32\u001b[0m)         │         \u001b[38;5;34m4,992\u001b[0m │\n",
       "├─────────────────────────────────┼────────────────────────┼───────────────┤\n",
       "│ lstm_30 (\u001b[38;5;33mLSTM\u001b[0m)                  │ (\u001b[38;5;45mNone\u001b[0m, \u001b[38;5;34m32\u001b[0m)             │         \u001b[38;5;34m8,320\u001b[0m │\n",
       "├─────────────────────────────────┼────────────────────────┼───────────────┤\n",
       "│ dense_11 (\u001b[38;5;33mDense\u001b[0m)                │ (\u001b[38;5;45mNone\u001b[0m, \u001b[38;5;34m1\u001b[0m)              │            \u001b[38;5;34m33\u001b[0m │\n",
       "└─────────────────────────────────┴────────────────────────┴───────────────┘\n"
      ]
     },
     "metadata": {},
     "output_type": "display_data"
    },
    {
     "data": {
      "text/html": [
       "<pre style=\"white-space:pre;overflow-x:auto;line-height:normal;font-family:Menlo,'DejaVu Sans Mono',consolas,'Courier New',monospace\"><span style=\"font-weight: bold\"> Total params: </span><span style=\"color: #00af00; text-decoration-color: #00af00\">40,037</span> (156.40 KB)\n",
       "</pre>\n"
      ],
      "text/plain": [
       "\u001b[1m Total params: \u001b[0m\u001b[38;5;34m40,037\u001b[0m (156.40 KB)\n"
      ]
     },
     "metadata": {},
     "output_type": "display_data"
    },
    {
     "data": {
      "text/html": [
       "<pre style=\"white-space:pre;overflow-x:auto;line-height:normal;font-family:Menlo,'DejaVu Sans Mono',consolas,'Courier New',monospace\"><span style=\"font-weight: bold\"> Trainable params: </span><span style=\"color: #00af00; text-decoration-color: #00af00\">13,345</span> (52.13 KB)\n",
       "</pre>\n"
      ],
      "text/plain": [
       "\u001b[1m Trainable params: \u001b[0m\u001b[38;5;34m13,345\u001b[0m (52.13 KB)\n"
      ]
     },
     "metadata": {},
     "output_type": "display_data"
    },
    {
     "data": {
      "text/html": [
       "<pre style=\"white-space:pre;overflow-x:auto;line-height:normal;font-family:Menlo,'DejaVu Sans Mono',consolas,'Courier New',monospace\"><span style=\"font-weight: bold\"> Non-trainable params: </span><span style=\"color: #00af00; text-decoration-color: #00af00\">0</span> (0.00 B)\n",
       "</pre>\n"
      ],
      "text/plain": [
       "\u001b[1m Non-trainable params: \u001b[0m\u001b[38;5;34m0\u001b[0m (0.00 B)\n"
      ]
     },
     "metadata": {},
     "output_type": "display_data"
    },
    {
     "data": {
      "text/html": [
       "<pre style=\"white-space:pre;overflow-x:auto;line-height:normal;font-family:Menlo,'DejaVu Sans Mono',consolas,'Courier New',monospace\"><span style=\"font-weight: bold\"> Optimizer params: </span><span style=\"color: #00af00; text-decoration-color: #00af00\">26,692</span> (104.27 KB)\n",
       "</pre>\n"
      ],
      "text/plain": [
       "\u001b[1m Optimizer params: \u001b[0m\u001b[38;5;34m26,692\u001b[0m (104.27 KB)\n"
      ]
     },
     "metadata": {},
     "output_type": "display_data"
    }
   ],
   "source": [
    "def create_sequences(data, seq_length=10):\n",
    "    \"\"\"\n",
    "    Convert DataFrame into sequences of specified length for LSTM input.\n",
    "    \"\"\"\n",
    "    x, y = [], []\n",
    "    for i in range(len(data) - seq_length):\n",
    "        # Create sequences of length `seq_length`\n",
    "        x.append(data[i:i+seq_length, :-1])  # all columns except the last for features\n",
    "        y.append(data[i+seq_length, -1])     # last column as target\n",
    "    return np.array(x), np.array(y)\n",
    "\n",
    "ticker = datapoints_per_ticker.index[0]\n",
    "\n",
    "ticker_data_train = df_train[df_train[\"ticker\"] == ticker]\n",
    "ticker_data_train = ticker_data_train.drop(columns=[\"ticker\", \"sip_timestamp\"])\n",
    "\n",
    "scaler = MinMaxScaler()\n",
    "data = scaler.fit_transform(ticker_data_train)\n",
    "\n",
    "seq_length = 10  \n",
    "X_train, y_train = create_sequences(data, seq_length)\n",
    "\n",
    "model = Sequential([\n",
    "    LSTM(32, activation='relu', input_shape=(seq_length, 6), return_sequences=True),\n",
    "    LSTM(32, activation='relu', input_shape=(seq_length, 6), return_sequences=False),\n",
    "    Dense(1)\n",
    "])\n",
    "\n",
    "model.compile(optimizer='adam', loss='mse')\n",
    "\n",
    "model.fit(X_train, y_train, epochs=10, batch_size=32)\n",
    "\n",
    "model.summary()"
   ]
  },
  {
   "cell_type": "code",
   "execution_count": 36,
   "metadata": {},
   "outputs": [
    {
     "name": "stdout",
     "output_type": "stream",
     "text": [
      "\u001b[1m71/71\u001b[0m \u001b[32m━━━━━━━━━━━━━━━━━━━━\u001b[0m\u001b[37m\u001b[0m \u001b[1m0s\u001b[0m 2ms/step\n",
      "Test MSE 0.017789190683814567\n"
     ]
    }
   ],
   "source": [
    "ticker_data_test = df_test[df_test[\"ticker\"] == ticker]\n",
    "ticker_data_test = ticker_data_test.drop(columns=[\"ticker\", \"sip_timestamp\"])\n",
    "data = scaler.fit_transform(ticker_data_test)\n",
    "\n",
    "X_test, y_test = create_sequences(data, seq_length)\n",
    "y_pred = model.predict(X_test)\n",
    "\n",
    "mse = np.mean((y_test-y_pred)**2)\n",
    "\n",
    "print(f\"Test MSE {mse}\")"
   ]
  },
  {
   "cell_type": "code",
   "execution_count": 37,
   "metadata": {},
   "outputs": [
    {
     "data": {
      "image/png": "[encoded data removed]",
      "text/plain": [
       "<Figure size 1000x600 with 1 Axes>"
      ]
     },
     "metadata": {},
     "output_type": "display_data"
    }
   ],
   "source": [
    "plt.figure(figsize=(10, 6))\n",
    "plt.plot(pd.to_datetime(df_test.loc[df_test[\"ticker\"] == ticker, \"sip_timestamp\"].iloc[10:]), y_test, label=\"True\")\n",
    "plt.plot(pd.to_datetime(df_test.loc[df_test[\"ticker\"] == ticker, \"sip_timestamp\"].iloc[10:]), y_pred, label=\"Pred\")\n",
    "plt.title(f\"LSTM model prediction for {ticker}\")\n",
    "plt.ylabel(\"Midprice\")\n",
    "plt.xlabel(\"Time\")\n",
    "plt.show()"
   ]
  },
  {
   "cell_type": "code",
   "execution_count": 38,
   "metadata": {},
   "outputs": [
    {
     "name": "stdout",
     "output_type": "stream",
     "text": [
      "<class 'pandas.core.series.Series'>\n"
     ]
    }
   ],
   "source": [
    "print(type(pd.to_datetime(df_test.loc[df_test[\"ticker\"] == ticker, \"sip_timestamp\"].iloc[10:])))"
   ]
  }
 ],
 "metadata": {
  "kernelspec": {
   "display_name": "Python 3",
   "language": "python",
   "name": "python3"
  },
  "language_info": {
   "codemirror_mode": {
    "name": "ipython",
    "version": 3
   },
   "file_extension": ".py",
   "mimetype": "text/x-python",
   "name": "python",
   "nbconvert_exporter": "python",
   "pygments_lexer": "ipython3",
   "version": "3.12.3"
  }
 },
 "nbformat": 4,
 "nbformat_minor": 2
}
