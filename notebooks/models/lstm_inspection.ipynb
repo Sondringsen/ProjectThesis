{
 "cells": [
  {
   "cell_type": "code",
   "execution_count": 39,
   "metadata": {},
   "outputs": [],
   "source": [
    "import pandas as pd\n",
    "from tensorflow.keras.saving import load_model\n",
    "import numpy as np\n",
    "from sklearn.preprocessing import StandardScaler\n",
    "import matplotlib.pyplot as plt"
   ]
  },
  {
   "cell_type": "markdown",
   "metadata": {},
   "source": [
    "## Some parameters"
   ]
  },
  {
   "cell_type": "code",
   "execution_count": 21,
   "metadata": {},
   "outputs": [],
   "source": [
    "test_day = 0 # must be an element in [0, 1, 2, 3]\n",
    "ticker = \"ADSK\""
   ]
  },
  {
   "cell_type": "markdown",
   "metadata": {},
   "source": [
    "## Helper functions copied from src/models/lstm.py"
   ]
  },
  {
   "cell_type": "code",
   "execution_count": 22,
   "metadata": {},
   "outputs": [],
   "source": [
    "def get_dates_for_training_scheme(df: pd.DataFrame):\n",
    "    \"\"\"\n",
    "    This function returns all dates needed to train, validate and test the model. The training\n",
    "    follows a rolling window type scheme. The data is trained on 4 days and validated on the 5th. \n",
    "    Some portion of the end of the dates are used for testing.\n",
    "\n",
    "    Args:\n",
    "        df (pd.DataFrame): dataframe with data.\n",
    "\n",
    "    Returns:\n",
    "        List[Tuples]: a list of tuples conatining the training and validation/test dates.\n",
    "    \"\"\"\n",
    "    dates = df[\"sip_timestamp\"].dt.day.unique()\n",
    "\n",
    "    date_set = []\n",
    "\n",
    "    num_days_training = 9\n",
    "    num_days_val_test = 1\n",
    "\n",
    "    for i in range(0, len(dates) - num_days_training, num_days_val_test):\n",
    "        date_set.append((dates[i: i + num_days_training], dates[i + num_days_training: i + num_days_training + num_days_val_test]))\n",
    "\n",
    "    return date_set\n",
    "\n",
    "def train_val_test(df: pd.DataFrame, days: tuple[np.ndarray, np.ndarray]):\n",
    "    \"\"\"\n",
    "    Splits a dataframe into training and val/test. The splitting is done by given dates.\n",
    "\n",
    "    Args:\n",
    "        df (pd.DataFrame): dataframe to split into training and test.\n",
    "        days (tuple[np.ndarray, np.ndarray]): a tuple containing two arrays of train days and val/test days respectively\n",
    "\n",
    "    Returns:\n",
    "        tuple[pd.DataFrame, pd.DataFrame]: a train and val/test set of the original dataframe\n",
    "    \"\"\"\n",
    "    \n",
    "    train = df[df[\"sip_timestamp\"].dt.day.isin(days[0])]\n",
    "    val_test = df[df[\"sip_timestamp\"].dt.day.isin(days[1])]\n",
    "\n",
    "    return train, val_test\n",
    "\n",
    "def create_sequences(data: np.ndarray, seq_length: int):\n",
    "    \"\"\"\n",
    "    Convert DataFrame into sequences of specified length for LSTM input.\n",
    "\n",
    "    Args: \n",
    "        data (np.array): complete data containing both x and y\n",
    "        seq_length (int): the length of the sequence considered in the lstm.\n",
    "\n",
    "    Returns:\n",
    "        (np.array, np.array): x and y datasets with the sequences. \n",
    "    \"\"\"\n",
    "    x, y = [], []\n",
    "    for i in range(len(data) - seq_length):\n",
    "        x.append(data[i:i + seq_length, :])  # all columns, including the last one, as features\n",
    "        y.append(data[i + seq_length, -1])  # last column's lagged value as target\n",
    "\n",
    "    return np.array(x), np.array(y)\n",
    "\n",
    "def create_sequences_modified(data, seq_length):\n",
    "    \"\"\"\n",
    "    Convert DataFrame into sequences of specified length for LSTM input. Makes sure sequences do not \n",
    "    contain data from different dates.\n",
    "\n",
    "    Args: \n",
    "        data (np.array): complete data containing both x and y\n",
    "        seq_length (int): the length of the sequence considered in the lstm.\n",
    "\n",
    "    Returns:\n",
    "        (np.array, np.array): x and y datasets with the sequences. \n",
    "    \"\"\"\n",
    "    X, y = [], []\n",
    "    for date, group_data in data.groupby(\"date\"):\n",
    "        group_data = group_data.drop(columns=[\"date\"]).values\n",
    "        X_date, y_date = create_sequences(group_data, seq_length)\n",
    "        X.append(X_date)\n",
    "        y.append(y_date)\n",
    "    return np.concatenate(X), np.concatenate(y)"
   ]
  },
  {
   "cell_type": "code",
   "execution_count": 23,
   "metadata": {},
   "outputs": [],
   "source": [
    "def get_best_config(ticker: str):\n",
    "    config_loss_df = pd.read_csv(\"../../reports/config_space_loss.csv\")\n",
    "    config_loss_df = config_loss_df[config_loss_df[\"ticker\"] == ticker]\n",
    "    \n",
    "    id_min_loss = config_loss_df[\"mse\"].idxmin()\n",
    "    config = config_loss_df.iloc[id_min_loss,:]\n",
    "    config = config.drop(index = [\"ticker\", \"mse\"])\n",
    "    config = config.to_dict()\n",
    "    return config\n"
   ]
  },
  {
   "cell_type": "markdown",
   "metadata": {},
   "source": [
    "## Loading data and creating model"
   ]
  },
  {
   "cell_type": "code",
   "execution_count": null,
   "metadata": {},
   "outputs": [],
   "source": [
    "df = pd.read_csv(\"../../data/processed/tq_data_gridded/df_tot_gridded.csv\")"
   ]
  },
  {
   "cell_type": "code",
   "execution_count": 76,
   "metadata": {},
   "outputs": [],
   "source": [
    "ticker_data = df[df[\"ticker\"] == ticker].copy()\n",
    "ticker_data[\"sip_timestamp\"] = pd.to_datetime(ticker_data[\"sip_timestamp\"])\n",
    "ticker_data[\"date\"] = ticker_data[\"sip_timestamp\"].dt.date"
   ]
  },
  {
   "cell_type": "code",
   "execution_count": 81,
   "metadata": {},
   "outputs": [
    {
     "name": "stdout",
     "output_type": "stream",
     "text": [
      "\u001b[1m731/731\u001b[0m \u001b[32m━━━━━━━━━━━━━━━━━━━━\u001b[0m\u001b[37m\u001b[0m \u001b[1m1s\u001b[0m 609us/step\n"
     ]
    }
   ],
   "source": [
    "config = get_best_config(ticker)\n",
    "date_scheme = get_dates_for_training_scheme(ticker_data)\n",
    "\n",
    "num_days_testing = 4\n",
    "date_scheme_test = date_scheme[-num_days_testing:]\n",
    "date_set = date_scheme_test[test_day]\n",
    "\n",
    "train, test = train_val_test(ticker_data, date_set)\n",
    "scaler = StandardScaler()\n",
    "\n",
    "ts = test[\"sip_timestamp\"].iloc[config[\"seq_length\"]:]\n",
    "\n",
    "train = train.drop(columns=[\"ticker\", \"sip_timestamp\"])\n",
    "test = test.drop(columns=[\"ticker\", \"sip_timestamp\"])\n",
    "\n",
    "train.loc[:, train.columns != \"date\"] = scaler.fit_transform(train.loc[:, train.columns != \"date\"])\n",
    "test.loc[:, test.columns != \"date\"] = scaler.transform(test.loc[:, test.columns != \"date\"])\n",
    "\n",
    "X_train, y_train = create_sequences_modified(train, config[\"seq_length\"])\n",
    "X_test, y_test = create_sequences_modified(test, config[\"seq_length\"])\n",
    "\n",
    "model = load_model(f\"../../reports/models/{ticker}-{test_day}.keras\")\n",
    "\n",
    "y_pred = model.predict(X_test).flatten()"
   ]
  },
  {
   "cell_type": "code",
   "execution_count": 99,
   "metadata": {},
   "outputs": [
    {
     "data": {
      "image/png": "[encoded data removed]",
      "text/plain": [
       "<Figure size 1000x600 with 1 Axes>"
      ]
     },
     "metadata": {},
     "output_type": "display_data"
    }
   ],
   "source": [
    "subset = slice(120, 130)\n",
    "\n",
    "plt.figure(figsize=(10, 6))\n",
    "plt.scatter(ts.iloc[subset], y_pred[subset], label=\"pred\")\n",
    "plt.scatter(ts.iloc[subset], y_test[subset], label=\"true\")\n",
    "plt.legend()\n",
    "plt.title(f\"Model prediction against true values for test day {test_day} for {ticker}\")\n",
    "plt.show()"
   ]
  }
 ],
 "metadata": {
  "kernelspec": {
   "display_name": "Python 3",
   "language": "python",
   "name": "python3"
  },
  "language_info": {
   "codemirror_mode": {
    "name": "ipython",
    "version": 3
   },
   "file_extension": ".py",
   "mimetype": "text/x-python",
   "name": "python",
   "nbconvert_exporter": "python",
   "pygments_lexer": "ipython3",
   "version": "3.12.3"
  }
 },
 "nbformat": 4,
 "nbformat_minor": 2
}
